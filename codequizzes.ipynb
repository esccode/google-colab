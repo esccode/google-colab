{
  "nbformat": 4,
  "nbformat_minor": 0,
  "metadata": {
    "colab": {
      "name": "codequizzes.ipynb",
      "provenance": [],
      "collapsed_sections": [],
      "authorship_tag": "ABX9TyPP7FapJW0lgzjFMG+sISxo",
      "include_colab_link": true
    },
    "kernelspec": {
      "name": "python3",
      "display_name": "Python 3"
    }
  },
  "cells": [
    {
      "cell_type": "markdown",
      "metadata": {
        "id": "view-in-github",
        "colab_type": "text"
      },
      "source": [
        "<a href=\"https://colab.research.google.com/github/esccode/google-colab/blob/main/codequizzes.ipynb\" target=\"_parent\"><img src=\"https://colab.research.google.com/assets/colab-badge.svg\" alt=\"Open In Colab\"/></a>"
      ]
    },
    {
      "cell_type": "markdown",
      "metadata": {
        "id": "YjUArtINTXgh"
      },
      "source": [
        "[For and While Loops](https://www.codequizzes.com/python/beginner-II/for-while-loops)\n"
      ]
    },
    {
      "cell_type": "code",
      "metadata": {
        "id": "C1Dg5yR-r0dw"
      },
      "source": [
        "sum = 0\n",
        "counter = 0\n",
        "numbers = [1, 2, 3, 4.5,7,9,12]\n",
        "while counter < len(numbers):\n",
        "  sum = sum + numbers[counter]\n",
        "  print(numbers[counter])\n",
        "  counter = counter + 1\n",
        "print(f' suma: {sum}')\n",
        "print(f'liczba elementów w numbers: {len(numbers)}')\n",
        "\n"
      ],
      "execution_count": null,
      "outputs": []
    },
    {
      "cell_type": "code",
      "metadata": {
        "id": "i87hW7-VSz4P"
      },
      "source": [
        "sum = 0\n",
        "counter = 0\n",
        "numbers = [22, 55, 111, 555, 777]\n",
        "print(f'drukujemy: {numbers[counter]}')\n",
        "while numbers[counter] < 200:\n",
        "  sum = sum + numbers[counter]\n",
        "  print(numbers[counter])\n",
        "  counter = counter + 2\n",
        "print(f'suma: {sum}')"
      ],
      "execution_count": null,
      "outputs": []
    },
    {
      "cell_type": "code",
      "metadata": {
        "id": "S10KE0Rr2shT",
        "outputId": "102f31f3-ec3b-4778-f231-bf944605c943",
        "colab": {
          "base_uri": "https://localhost:8080/"
        }
      },
      "source": [
        "word=''\n",
        "letters=['t','s','q','j']\n",
        "for i in letters:\n",
        "  word=word+i\n",
        "print(word)"
      ],
      "execution_count": 41,
      "outputs": [
        {
          "output_type": "stream",
          "text": [
            "tsqj\n"
          ],
          "name": "stdout"
        }
      ]
    },
    {
      "cell_type": "code",
      "metadata": {
        "id": "npw7tuym3PGq",
        "outputId": "4328000d-17dc-432d-fd95-f0347c03c963",
        "colab": {
          "base_uri": "https://localhost:8080/"
        }
      },
      "source": [
        "result=0\n",
        "numbers=[2,4,1]\n",
        "for i in numbers:\n",
        "  result=result+i \n",
        "print(result)"
      ],
      "execution_count": 42,
      "outputs": [
        {
          "output_type": "stream",
          "text": [
            "7\n"
          ],
          "name": "stdout"
        }
      ]
    },
    {
      "cell_type": "code",
      "metadata": {
        "id": "kTmrIFXp4w8_"
      },
      "source": [
        "sum =0\n",
        "counter=0\n",
        "numbers=[1,33,88,300,400]\n",
        "while numbers[counter] < 200:\n",
        " sum=sum+numbers[counter]\n",
        " counter=counter + 2\n",
        "print(sum)\n",
        "print(counter)"
      ],
      "execution_count": null,
      "outputs": []
    },
    {
      "cell_type": "markdown",
      "metadata": {
        "id": "nzx0526G7zHG"
      },
      "source": [
        "[Loops with nested data structures](https://www.codequizzes.com/python/beginner-III/loops-nested-data-structures)\n"
      ]
    },
    {
      "cell_type": "code",
      "metadata": {
        "id": "g-1zDcm87-e_",
        "outputId": "005b733e-f8ea-4b00-f083-4a4a386b7e51",
        "colab": {
          "base_uri": "https://localhost:8080/"
        }
      },
      "source": [
        "numbers = [\n",
        "    [10, 20],\n",
        "    [30, 40],\n",
        "]\n",
        "\n",
        "result = 0\n",
        "\n",
        "for i in numbers:\n",
        "    for j in i:\n",
        "        result = result + j\n",
        "\n",
        "print(result)"
      ],
      "execution_count": 50,
      "outputs": [
        {
          "output_type": "stream",
          "text": [
            "100\n"
          ],
          "name": "stdout"
        }
      ]
    },
    {
      "cell_type": "code",
      "metadata": {
        "id": "6AKNslSm_b8Y",
        "outputId": "f1ec72d4-0161-4418-f098-33040c5303ef",
        "colab": {
          "base_uri": "https://localhost:8080/"
        }
      },
      "source": [
        "animals = [\n",
        "    {\"species\": \"dog\", \"is_mammal\": True},\n",
        "    {\"species\": \"fish\", \"has_hair\": \"False\"},\n",
        "]\n",
        "\n",
        "result = []\n",
        "for i in animals:\n",
        "\tresult.append(i[\"species\"])\n",
        "print(result)"
      ],
      "execution_count": 51,
      "outputs": [
        {
          "output_type": "stream",
          "text": [
            "['dog', 'fish']\n"
          ],
          "name": "stdout"
        }
      ]
    },
    {
      "cell_type": "code",
      "metadata": {
        "id": "jNsvPlbNIHej",
        "outputId": "13e7089c-47d2-41bf-fa92-792450690e9f",
        "colab": {
          "base_uri": "https://localhost:8080/"
        }
      },
      "source": [
        "from functools import reduce\n",
        "\n",
        "nums = [\n",
        "    [1, 2, 13, 15],\n",
        "    [30, 40],\n",
        "]\n",
        "\n",
        "res = []\n",
        "\n",
        "for i in nums:\n",
        "    r = reduce(lambda x, y: x + y, i)\n",
        "    res.append(r)\n",
        "\n",
        "print(res)"
      ],
      "execution_count": 52,
      "outputs": [
        {
          "output_type": "stream",
          "text": [
            "[31, 70]\n"
          ],
          "name": "stdout"
        }
      ]
    },
    {
      "cell_type": "markdown",
      "metadata": {
        "id": "9FaLs-UnIQ5l"
      },
      "source": [
        "[Map, Filter, and Reduce](https://www.codequizzes.com/python/beginner-II/anonymous-functions-map-filter-reduce)"
      ]
    },
    {
      "cell_type": "code",
      "metadata": {
        "id": "Pf6AcIxpImzD",
        "outputId": "cd5d3704-522e-4620-f3b3-fa8ec5452b37",
        "colab": {
          "base_uri": "https://localhost:8080/"
        }
      },
      "source": [
        "add_one = lambda x: x + 1\n",
        "print(add_one(7))"
      ],
      "execution_count": 53,
      "outputs": [
        {
          "output_type": "stream",
          "text": [
            "8\n"
          ],
          "name": "stdout"
        }
      ]
    },
    {
      "cell_type": "markdown",
      "metadata": {
        "id": "xIbepTc5tw1Y"
      },
      "source": [
        "[Nested data structures\n",
        "](https://www.codequizzes.com/python/beginner-III/nested-data-structures)\n"
      ]
    },
    {
      "cell_type": "code",
      "metadata": {
        "id": "TXVtc3vvuG2w"
      },
      "source": [
        "arr = [[10,20],\n",
        "       [3,5]]\n",
        "arr[0][0] = \"a\"\n",
        "print(arr[1][0])\n",
        "print(arr)"
      ],
      "execution_count": null,
      "outputs": []
    },
    {
      "cell_type": "code",
      "metadata": {
        "id": "gVu5pl5ou39D"
      },
      "source": [
        "people = [\n",
        "    {\"name\": \"mary\", \"job\": \"programmer\"},\n",
        "    {\"name\": \"ted\", \"job\": \"plumber\"},\n",
        "]\n",
        "print(people[0]['job'])\n",
        "people[1]['name']='jack'\n",
        "print(people[1])"
      ],
      "execution_count": null,
      "outputs": []
    },
    {
      "cell_type": "code",
      "metadata": {
        "id": "dfeIp7-2vcJp"
      },
      "source": [
        "stuff = {\n",
        "    \"wife\": \"liz\",\n",
        "    \"drink\": {\"color\": \"black\"},\n",
        "    \"toy\": {\"min_age\": 4, \"max_age\": 10},\n",
        "}\n",
        "stuff['new']={'new item': 2,'new item2':4}\n",
        "\n",
        "print(stuff)"
      ],
      "execution_count": null,
      "outputs": []
    }
  ]
}