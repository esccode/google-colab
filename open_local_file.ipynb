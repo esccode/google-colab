{
  "nbformat": 4,
  "nbformat_minor": 0,
  "metadata": {
    "colab": {
      "name": "test.ipynb",
      "provenance": [],
      "collapsed_sections": [],
      "authorship_tag": "ABX9TyOTpHtOHYWQGW5alyjDCBfp",
      "include_colab_link": true
    },
    "kernelspec": {
      "name": "python3",
      "display_name": "Python 3"
    }
  },
  "cells": [
    {
      "cell_type": "markdown",
      "metadata": {
        "id": "view-in-github",
        "colab_type": "text"
      },
      "source": [
        "<a href=\"https://colab.research.google.com/github/keca13/google-colab/blob/main/open_local_file.ipynb\" target=\"_parent\"><img src=\"https://colab.research.google.com/assets/colab-badge.svg\" alt=\"Open In Colab\"/></a>"
      ]
    },
    {
      "cell_type": "markdown",
      "metadata": {
        "id": "Vp9_vbHSkeWj"
      },
      "source": [
        "/content/sample_data/anscombe.json"
      ]
    },
    {
      "cell_type": "code",
      "metadata": {
        "id": "wMvov_gfpRpN"
      },
      "source": [
        "from google.colab import files\n",
        "\n",
        "uploaded = files.upload()\n",
        "\n",
        "for fn in uploaded.keys():\n",
        "  print('User uploaded file \"{name}\" with length {length} bytes'.format(\n",
        "      name=fn, length=len(uploaded[fn])))"
      ],
      "execution_count": null,
      "outputs": []
    },
    {
      "cell_type": "code",
      "metadata": {
        "id": "c5AH27I6pWGx",
        "outputId": "6b321817-e957-4935-e731-5b9b1ca583fa",
        "colab": {
          "base_uri": "https://localhost:8080/",
          "height": 34
        }
      },
      "source": [
        "!ls"
      ],
      "execution_count": 18,
      "outputs": [
        {
          "output_type": "stream",
          "text": [
            "cennik.csv  sample_data\n"
          ],
          "name": "stdout"
        }
      ]
    },
    {
      "cell_type": "code",
      "metadata": {
        "id": "uKil_ORAmFXa"
      },
      "source": [
        "file = 'cennik.csv'\n",
        "f = open(file)\n",
        "f.read()"
      ],
      "execution_count": null,
      "outputs": []
    },
    {
      "cell_type": "code",
      "metadata": {
        "id": "6qOkzaFgmnWN"
      },
      "source": [
        "import pandas as pd\n",
        "dff = pd.read_csv(file)\n",
        "#dff\n",
        "dff_out = dff['Destination']\n",
        "dff_out\n",
        "\n"
      ],
      "execution_count": null,
      "outputs": []
    },
    {
      "cell_type": "code",
      "metadata": {
        "id": "D95lBndLtGF3"
      },
      "source": [
        "dff_out.to_csv('cennik-destination', index=False)"
      ],
      "execution_count": 36,
      "outputs": []
    }
  ]
}