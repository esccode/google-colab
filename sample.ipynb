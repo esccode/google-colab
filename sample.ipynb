{
  "nbformat": 4,
  "nbformat_minor": 0,
  "metadata": {
    "colab": {
      "name": "sample.ipynb",
      "provenance": [],
      "collapsed_sections": [],
      "mount_file_id": "1mgOw54lg9GafAZXlsMvNWsKHboYWtB82",
      "authorship_tag": "ABX9TyOd7x638aOp+0zqYnOSFIME",
      "include_colab_link": true
    },
    "kernelspec": {
      "name": "python3",
      "display_name": "Python 3"
    }
  },
  "cells": [
    {
      "cell_type": "markdown",
      "metadata": {
        "id": "view-in-github",
        "colab_type": "text"
      },
      "source": [
        "<a href=\"https://colab.research.google.com/github/keca13/google-colab/blob/main/sample.ipynb\" target=\"_parent\"><img src=\"https://colab.research.google.com/assets/colab-badge.svg\" alt=\"Open In Colab\"/></a>"
      ]
    },
    {
      "cell_type": "markdown",
      "metadata": {
        "id": "0bin3_oh5gVY"
      },
      "source": [
        "Mounting Google Drive in your VM"
      ]
    },
    {
      "cell_type": "code",
      "metadata": {
        "id": "OwDHG37x5YpS"
      },
      "source": [
        "# from google.colab import drive\n",
        "# drive.mount('/gdrive')"
      ],
      "execution_count": null,
      "outputs": []
    },
    {
      "cell_type": "markdown",
      "metadata": {
        "id": "eAtPi58h5sBP"
      },
      "source": [
        "\n",
        "\n",
        "Open files from your local file system\n",
        "\n"
      ]
    },
    {
      "cell_type": "code",
      "metadata": {
        "id": "MNnrXD6F5-EJ"
      },
      "source": [
        "# from google.colab import files\n",
        "\n",
        "# uploaded = files.upload()\n",
        "\n",
        "# for fn in uploaded.keys():\n",
        "#   print('User uploaded file \"{name}\" with length {length} bytes'.format(\n",
        "#       name=fn, length=len(uploaded[fn])))"
      ],
      "execution_count": null,
      "outputs": []
    },
    {
      "cell_type": "code",
      "metadata": {
        "id": "i6a2iMX56HnD"
      },
      "source": [
        "# file = 'cennik.csv'\n",
        "# f = open(file)\n",
        "# f.read()"
      ],
      "execution_count": null,
      "outputs": []
    },
    {
      "cell_type": "code",
      "metadata": {
        "id": "v-ZM0ovh6LOa"
      },
      "source": [
        "# import pandas as pd\n",
        "# dff = pd.read_csv(file)\n",
        "# #dff\n",
        "# dff_out = dff['Destination']\n",
        "# dff_out\n",
        "# dff_out.to_csv('cennik-destination', index=False)"
      ],
      "execution_count": null,
      "outputs": []
    },
    {
      "cell_type": "markdown",
      "metadata": {
        "id": "Uf6s25jW7oZe"
      },
      "source": [
        "Saving data to Google Sheets\n"
      ]
    },
    {
      "cell_type": "code",
      "metadata": {
        "id": "Q6jj-JG37krF"
      },
      "source": [
        "# !pip install --upgrade gspread"
      ],
      "execution_count": null,
      "outputs": []
    },
    {
      "cell_type": "code",
      "metadata": {
        "id": "HmsthZc27kqJ"
      },
      "source": [
        "# from google.colab import auth\n",
        "# auth.authenticate_user()\n",
        "\n",
        "# import gspread\n",
        "# from oauth2client.client import GoogleCredentials\n",
        "\n",
        "# gc = gspread.authorize(GoogleCredentials.get_application_default())\n",
        "\n",
        "# sh = gc.create('A new spreadsheet')\n",
        "\n",
        "# # Open our new sheet and add some data.\n",
        "# worksheet = gc.open('A new spreadsheet').sheet1\n",
        "\n",
        "# cell_list = worksheet.range('A1:C2')\n",
        "\n",
        "# import random\n",
        "# for cell in cell_list:\n",
        "#   cell.value = random.randint(1, 10)\n",
        "\n",
        "# worksheet.update_cells(cell_list)\n",
        "# # Go to https://sheets.google.com to see your new spreadsheet."
      ],
      "execution_count": null,
      "outputs": []
    },
    {
      "cell_type": "markdown",
      "metadata": {
        "id": "Li6LJwQA75uA"
      },
      "source": [
        "usefull commend"
      ]
    },
    {
      "cell_type": "code",
      "metadata": {
        "id": "9xJcdRxOaodM"
      },
      "source": [
        "#%cd drive/\n",
        "#%cd My\\ Drive\n",
        "# !pwd\n",
        "# %cd csv/\n",
        "# !cp plik.csv file.csv\n",
        "# !ls\n"
      ],
      "execution_count": null,
      "outputs": []
    },
    {
      "cell_type": "code",
      "metadata": {
        "id": "vxXKO2FK-GFA"
      },
      "source": [
        "\n",
        "# !cat /content/sample_data/california_housing_test.csv\n",
        "# !pwd\n",
        "# !ls /content/drive/My\\ Drive/\n"
      ],
      "execution_count": null,
      "outputs": []
    }
  ]
}